{
 "cells": [
  {
   "cell_type": "markdown",
   "metadata": {},
   "source": [
    "## Introduction to Jupyter\n",
    "\n",
    "Welcome to Jupyter! In case you haven't seen a notebook interface like this before, I will quickly explain how they work here. If you're already experienced with this type of interface, feel free to skip ahead (to the section called **Brownian particle simulations**).\n",
    "\n",
    "When you have written code in the past, you have probably used an Integrated Development Environment (IDE) such as Idle or Spyder. These are great for building programs when we know from the outset exactly what we want to do. However, in scientific computing, we often want to experiment with many different approaches to the same challenge. It then becomes critically important a) that we can easily compare the outcome of these different approaches, and b) that we can accurately record the thought processes that led to each approach.\n",
    "\n",
    "Notebook interfaces help with this problem by combining word processing and programming into a single package. The word processing capabilities allow you to store complex documentation with your code, including $\\LaTeX$-quality equation typesetting:\n",
    "\n",
    "$$F = m\\frac{d^{2}x}{dt^{2}}$$\n",
    "\n",
    "and the ability to embed images:\n",
    "\n",
    "![Jupyter](Figs/jupyter.png)\n",
    "\n",
    "Later, we will also see how we can generate plots with our code as part of the document.\n",
    "\n",
    "In Jupyter, everything is written within *cells*. Cells come in two main flavours: **markdown** (which is what this section is written in) and **code** (where you will be editing your python scripts). You can insert new cells where they are needed and easily move cells around, allowing you to easily restructure document as needed. Clicking the **run** button at the top of the screen has a different effect depending on the type of cell currently selected:\n",
    "\n",
    "  * If a **markdown** cell, the markdown within will be converted into nicely formatted text.\n",
    "  * If a **code** cell, the code in it will be executed.\n",
    " \n",
    "The cell below is a code cell. Try clicking on it to select it and then press 'Run' to execute its contents."
   ]
  },
  {
   "cell_type": "code",
   "execution_count": null,
   "metadata": {},
   "outputs": [],
   "source": [
    "print(\"Hello world\")"
   ]
  },
  {
   "cell_type": "markdown",
   "metadata": {},
   "source": [
    "Note that variables, class/function definitions etc. are persistent between code blocks. This allows you split complex scripts into as many parts as you need. For example, we can define the variable 'MOE' in one code cell:"
   ]
  },
  {
   "cell_type": "code",
   "execution_count": null,
   "metadata": {},
   "outputs": [],
   "source": [
    "MOE = 42"
   ]
  },
  {
   "cell_type": "markdown",
   "metadata": {},
   "source": [
    "And then print it in a separate cell:"
   ]
  },
  {
   "cell_type": "code",
   "execution_count": null,
   "metadata": {},
   "outputs": [],
   "source": [
    "print(MOE)"
   ]
  },
  {
   "cell_type": "markdown",
   "metadata": {},
   "source": [
    "We do have to be careful to define things in the correct order, though. For example, running the two cells below in order will result in an error (although running them backwards won't!):"
   ]
  },
  {
   "cell_type": "code",
   "execution_count": null,
   "metadata": {},
   "outputs": [],
   "source": [
    "print(unliked)"
   ]
  },
  {
   "cell_type": "code",
   "execution_count": 1,
   "metadata": {},
   "outputs": [],
   "source": [
    "unliked = \"Green eggs and ham\""
   ]
  },
  {
   "cell_type": "markdown",
   "metadata": {},
   "source": [
    "# Brownian particle simulations\n",
    "\n",
    "In some of the earlier lectures in this course, you learnt how Brownian motion of many particles causes diffusion. You also saw that we can make several predictions about the movement of particles undergoing Brownian motion. In this practical, we will see how these predictions hold up when compared to computational 'experiments' of Brownian particles.\n",
    "\n",
    "Hopefully you recall that the displacement of the average particle from its starting point (the Root Mean Squared Displacement, RMSD, denoted with $r$) should scale as the square root of the 'lag time' $\\tau$, *i.e.*\n",
    "\n",
    "$$r \\propto \\sqrt{\\tau}$$\n",
    "\n",
    "We will test this prediction by explicitly simulating particles undergoing Brownian motion in Python."
   ]
  },
  {
   "cell_type": "markdown",
   "metadata": {},
   "source": [
    "## Initialising Python\n",
    "\n",
    "To explore this problem we will be using a number of tools from the matplotlib, numpy and pylab packages. These are imported in the code cell below."
   ]
  },
  {
   "cell_type": "code",
   "execution_count": null,
   "metadata": {},
   "outputs": [],
   "source": [
    "import matplotlib\n",
    "import matplotlib.pyplot as plt\n",
    "import numpy as np\n",
    "import math\n",
    "from pylab import *"
   ]
  },
  {
   "cell_type": "markdown",
   "metadata": {},
   "source": [
    "## Creating the BrownianParticle class\n",
    "\n",
    "We will be using an object-oriented approach to solve this problem. This means creating a class that defines the properties and behaviour of our particles, called the ```BrownianParticle``` class. We will assume that our particles move according to the equations:\n",
    "\n",
    "$$x(t+\\Delta t) = x(t) + \\sqrt{T} \\Delta t \\eta,$$\n",
    "$$y(t+\\Delta t) = y(t) + \\sqrt{T} \\Delta t \\eta,$$\n",
    "\n",
    "where $\\eta$ indicates a number drawn from a standard normal distribution (i.e. with mean 0 and standard deviation 1), $T$ is the absolute temperature of the particle and $\\Delta t$ is the timestep size (The term $\\sqrt{T}$ arises from assuming that our particles are being jostled in an ideal gas, see https://en.wikipedia.org/wiki/Maxwell%E2%80%93Boltzmann_distribution#Typical_speeds for more details).\n",
    "\n",
    "Please fill out the ```__init__``` and ```move``` methods of the BrownianParticle object in the code block below to implement these equations, then run the code to define the BrownianParticle object:"
   ]
  },
  {
   "cell_type": "code",
   "execution_count": null,
   "metadata": {},
   "outputs": [],
   "source": [
    "class BrownianParticle:\n",
    "    def __init__(self,T,x0,y0):\n",
    "        #Code called when initialising a BrownianParticle: T is the particle temperature, x0 and y0 indicate the starting coordinates of the particle\n",
    "\n",
    "    def move(self,dt):\n",
    "        #Code called when updating the position of a BrownianParticle: dt is the timestep size.\n",
    "        #Hint: np.random.standard_normal() provides you with a number drawn from a standard normal.\n"
   ]
  },
  {
   "cell_type": "markdown",
   "metadata": {},
   "source": [
    "## Defining the RMSD function\n",
    "The Root Mean Squared Displacement (RMSD) $r$ is typically used to determine the macroscopic diffusion coefficient $D$. In 2D, it is defined as:\n",
    "\n",
    "$$r(\\tau) = \\langle(x(t_0 + \\tau)-x(t_0))^2 + (y(t_0 + \\tau)-y(t_0))^2\\rangle,$$\n",
    "\n",
    "where $\\langle \\cdot \\rangle$ indicates the average over all particles and all reference times $t_0$, $x(t),y(t)$ indicates the position of the particle at time $t$ and $\\tau$ is the lag time. This function is already coded up for you in the cell below."
   ]
  },
  {
   "cell_type": "code",
   "execution_count": null,
   "metadata": {},
   "outputs": [],
   "source": [
    "def RMSD(x,y):\n",
    "    Sums = np.zeros((x.shape[0],1))\n",
    "    Counts = np.zeros((x.shape[0],1))\n",
    "    for i in range(0,x.shape[1]): #For each track\n",
    "        for j in range(0,x.shape[0]): #Treat each sub-track as a separate track\n",
    "            currXs = x[j:,i]\n",
    "            currYs = y[j:,i]\n",
    "            currTimes = range(0,x.shape[0] - j)\n",
    "            \n",
    "            currXDisps = currXs - currXs[0]\n",
    "            currYDisps = currYs - currYs[0]\n",
    "            \n",
    "            np.put(Sums,currTimes,np.take(Sums,currTimes) + np.power(currXDisps,2) + np.power(currYDisps,2))\n",
    "            np.put(Counts,currTimes,np.take(Counts,currTimes) + np.ones(len(currXDisps)))\n",
    "            \n",
    "    return np.sqrt(np.true_divide(Sums,Counts))"
   ]
  },
  {
   "cell_type": "markdown",
   "metadata": {},
   "source": [
    "## Running a simple Brownian simulation\n",
    "\n",
    "We will now run a simulation with a single particle, and plot its trajectory. It is often useful to run a simple test like this to ensure that your code is working properly, before moving to more complex analyses."
   ]
  },
  {
   "cell_type": "code",
   "execution_count": null,
   "metadata": {},
   "outputs": [],
   "source": [
    "#Settings of simulation\n",
    "tMax = 100                #The maximum time in the simulation\n",
    "dt = 0.1                  #The timestep size\n",
    "tSteps = round(tMax/dt)   #The number of timesteps taken to reach tMax\n",
    "T = 1                     #The temperature of the particle\n",
    "x0 = 0                    #The starting coordinates of the particle\n",
    "y0 = 0"
   ]
  },
  {
   "cell_type": "code",
   "execution_count": null,
   "metadata": {},
   "outputs": [],
   "source": [
    "#Running the simulation itself\n",
    "BP = BrownianParticle(T,x0,y0)        #Initialise a BrownianParticle object\n",
    "ts = multiply(np.arange(0,tSteps),dt) #Create a sequence of numbers indicating the times at which you are sampling the system\n",
    "xs = np.zeros((tSteps,1))             #Initialise data storage: xs (an array that will contain the x-coordinates of our particle at each timepoint)\n",
    "ys = np.zeros((tSteps,1))             #And ys (an array that will contain the y-coordinates of our particle at each timepoint)\n",
    "\n",
    "for t in range(1,tSteps):             #For each timepoint in the simulation...\n",
    "    BP.move(dt)                       #Move the particle\n",
    "    xs[t] = BP.x                      #And store its new position\n",
    "    ys[t] = BP.y"
   ]
  },
  {
   "cell_type": "code",
   "execution_count": null,
   "metadata": {},
   "outputs": [],
   "source": [
    "#Plotting the results of the simulation\n",
    "fig = plt.figure()                          #Create a new figure\n",
    "axes = fig.add_axes([0.1, 0.1, 0.8, 0.8])   #Create some new axes in the figure\n",
    "axes.plot(xs, ys, 'r')                      #Plot the positions of the particle over time\n",
    "axes.set_aspect(1)                          #Set the aspect ratio of the plot to be 1:1"
   ]
  },
  {
   "cell_type": "markdown",
   "metadata": {},
   "source": [
    "You should now see a plot similar to the below:\n",
    "\n",
    "![Single BP plot](Figs\\SingleBPplot.png)\n",
    "    \n",
    "We're working with a stochastic system here, so your plot won't look exactly the same as this. However, the general 'jaggedness' should be similar. If not, you may wish to look back over the cell in which you defined the BrownianParticle object (remember you'll need to re-run that cell if you make any edits to it)."
   ]
  },
  {
   "cell_type": "markdown",
   "metadata": {},
   "source": [
    "## Is $r \\propto \\sqrt{\\tau}$?\n",
    "\n",
    "We can now run a number of independent simulations and use our RMSD calculation code to check if $r$ is really proportional to $\\sqrt{t}$. Please complete the code cell below to run simulations of 10 different particles."
   ]
  },
  {
   "cell_type": "code",
   "execution_count": null,
   "metadata": {},
   "outputs": [],
   "source": [
    "noSims = 10                          #The number of different particles we will be simulating\n",
    "\n",
    "ys = np.zeros((tSteps,noSims))       #Storage matrices (note that these are indexed with time along the first dimension and simulation number along the second dimension)\n",
    "xs = np.zeros((tSteps,noSims))\n",
    "\n",
    "for s in range(0,noSims):            #For each particle...\n",
    "    \n",
    "    #Your code goes here (hint: writing X[a,b] will allow you to access element (a,b) of matrix X)"
   ]
  },
  {
   "cell_type": "markdown",
   "metadata": {},
   "source": [
    "If you like, you can run the code below to ensure that your simulations have run properly:"
   ]
  },
  {
   "cell_type": "code",
   "execution_count": null,
   "metadata": {},
   "outputs": [],
   "source": [
    "fig = plt.figure()\n",
    "axes = fig.add_axes([0.1, 0.1, 0.8, 0.8])\n",
    "\n",
    "for s in range(0,noSims):\n",
    "    axes.plot(xs[:,s], ys[:,s])\n",
    "    \n",
    "axes.set_aspect(1)"
   ]
  },
  {
   "cell_type": "markdown",
   "metadata": {},
   "source": [
    "This should produce a plot similar to that shown below:\n",
    "\n",
    "![ManyBPplot](Figs\\ManyBPplot.png)\n",
    "\n",
    "We can now calculate the RMSD and plot it. "
   ]
  },
  {
   "cell_type": "code",
   "execution_count": null,
   "metadata": {},
   "outputs": [],
   "source": [
    "BPrmsd = RMSD(xs,ys) #Calculate the RMSD for this set of simulations\n",
    "\n",
    "fig = plt.figure()\n",
    "axes = fig.add_axes([0.1, 0.1, 0.8, 0.8])\n",
    "\n",
    "axes.plot(ts,BPrmsd);\n",
    "axes.set_xlabel(r'$\\tau$')\n",
    "axes.set_ylabel(r'$r(\\tau)$')"
   ]
  },
  {
   "cell_type": "markdown",
   "metadata": {},
   "source": [
    "How can we check if the prediction of $r \\propto \\sqrt{t}$ holds? One way is to take logs of both sides:\n",
    "\n",
    "$$\\log(r) \\propto \\log(t^{\\frac{1}{2}})$$\n",
    "\n",
    "$$\\implies \\log(r) \\propto \\frac{1}{2}\\log(t)$$\n",
    "\n",
    "In other words, if we plot $\\log(r)$ against $\\log(t)$, the resulting line should have a slope of 1/2. Let's check this:"
   ]
  },
  {
   "cell_type": "code",
   "execution_count": null,
   "metadata": {},
   "outputs": [],
   "source": [
    "#Note that we need to ignore the first element of most of these arrays to avoid logging the 0 in ts[0]\n",
    "logRs = log(BPrmsd[1:])\n",
    "logTs = log(ts[1:])\n",
    "\n",
    "fig = plt.figure()\n",
    "axes = fig.add_axes([0.1, 0.1, 0.8, 0.8])\n",
    "\n",
    "axes.plot(logTs,logRs)\n",
    "axes.plot(np.arange(-2,3.1,1),np.arange(-0.5,2.1,0.5),color='black')\n",
    "axes.set_xlabel(r'$\\log(\\tau)$')\n",
    "axes.set_ylabel(r'$\\log(r(\\tau))$');"
   ]
  },
  {
   "cell_type": "markdown",
   "metadata": {},
   "source": [
    "If you have implemented your simulations correctly, you should see a blue line (containing the data from your simulations) and a black reference line with slope $\\frac{1}{2}$. Is our initial prediction supported by these simulations?"
   ]
  },
  {
   "cell_type": "markdown",
   "metadata": {},
   "source": [
    "## Optional extra: Investigating the relationship between $T$ and $D$\n",
    "\n",
    "If you have time after completing the first part of this exercise and fancy more of a challenge, please work on the problem below. \n",
    "\n",
    "According to the Stokes-Einstein equation, the diffusion constant $D$ and absolute temperature $T$ of a diffusive system are related by:\n",
    "\n",
    "$$D = \\frac{kT}{6\\pi\\mu a},$$\n",
    "\n",
    "where $k$ is Boltzmann's constant, $\\mu$ is the dynamic viscosity of the liquid and $a$ is the particle radius. In this exercise, we will vary the temperature of our particles while keeping the particle size and fluid viscosity constant. For our purposes, we can therefore rewrite this prediction as:\n",
    "\n",
    "$$D \\propto T.$$\n",
    "\n",
    "Note that the equations we used to define our `BrownianParticle` class were dependent on $T$. We are therefore asking whether we understand the connection between what we define at the microscopic level ($T$) and the behaviours that emerge at the macroscopic level ($D$).\n",
    "\n",
    "To calculate D, let us recall from the lectures that, in 2D,\n",
    "\n",
    "$$r^2 = 4D\\tau.$$\n",
    "\n",
    "We can therefore estimate D as \n",
    "\n",
    "$$D = \\frac{r^2}{4\\tau}.$$\n",
    "\n",
    "In other words, if we plot $\\frac{r^2}{4\\tau}$ against $\\tau$, we should see a line that has an approximately constant value of $D$. Let's see if this is the case:"
   ]
  },
  {
   "cell_type": "code",
   "execution_count": null,
   "metadata": {},
   "outputs": [],
   "source": [
    "#Note that we need to ignore the first element of most of these arrays to avoid divide-by-zero errors from the 0 stored in ts[0]\n",
    "yVals = np.true_divide(np.power(BPrmsd[1:].flatten(),2),4*ts[1:])\n",
    "\n",
    "fig = plt.figure()\n",
    "axes = fig.add_axes([0.1, 0.1, 0.8, 0.8])\n",
    "\n",
    "axes.plot(ts[1:],yVals)\n",
    "axes.set_ylim([0,0.06]);\n",
    "axes.set_xlabel(r'$\\tau$');\n",
    "axes.set_ylabel(r'$\\frac{r^2}{4\\tau}$');"
   ]
  },
  {
   "cell_type": "markdown",
   "metadata": {},
   "source": [
    "Hopefully this looks like an accurate prediction in your plot. We can estimate $D$ from this by calculating the mean value of $\\frac{r^2}{4\\tau}$ accross all $\\tau$:"
   ]
  },
  {
   "cell_type": "code",
   "execution_count": null,
   "metadata": {},
   "outputs": [],
   "source": [
    "print(mean(yVals))"
   ]
  },
  {
   "cell_type": "markdown",
   "metadata": {},
   "source": [
    "Now it's your turn - run many simulations using different values of $T$ and plot the relationship between $D$ and $T$.\n",
    "\n",
    "*Hint:* here is some pseudocode to help you organise your code:\n",
    "\n",
    "  1. Create a list of temperature values that you will test over\n",
    "  2. Preallocate some storage for the values of D associated with each temperature\n",
    "  3. Loop over particles\n",
    "      1. Prealloacte some storage for the simulated particle positions at this temperature\n",
    "      2. Loop over simulations\n",
    "          1. Create a new Brownian particle with specified temperature\n",
    "          2. Simulate particle movement (i.e. loop over time) and store particle positions\n",
    "      3. Calculate $r$ for this set of simulations\n",
    "      4. Caculate the mean value of $\\frac{r^2}{4\\tau}$ for this set of simulations and store this as $D$\n",
    "  4. Plot $T$ vs. $D$\n",
    "  \n",
    "Note that steps A-C are similar to what we did in the section called 'Is $r \\propto \\sqrt{t}$?'."
   ]
  },
  {
   "cell_type": "code",
   "execution_count": null,
   "metadata": {},
   "outputs": [],
   "source": []
  }
 ],
 "metadata": {
  "kernelspec": {
   "display_name": "Python 3",
   "language": "python",
   "name": "python3"
  },
  "language_info": {
   "codemirror_mode": {
    "name": "ipython",
    "version": 3
   },
   "file_extension": ".py",
   "mimetype": "text/x-python",
   "name": "python",
   "nbconvert_exporter": "python",
   "pygments_lexer": "ipython3",
   "version": "3.8.8"
  }
 },
 "nbformat": 4,
 "nbformat_minor": 2
}
