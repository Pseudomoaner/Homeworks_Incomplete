{
 "cells": [
  {
   "cell_type": "markdown",
   "id": "ab86383c",
   "metadata": {},
   "source": [
    "# Introduction to programming in Python\n",
    "\n",
    "This worksheet is intended for people who are unfamiliar with programming in general, and provides a basic overview of some of the most important programming concepts as well as how they are implemented in Python.\n",
    "\n",
    "The range of things you can do with Python is huge, too large to delve into to any great depth here. The focus here will be on understanding the basic tools you will need to complete the main exercise, but if you find yourself enjoying the process of programming there is much more to learn.\n",
    "\n",
    "## Arithmetic manipulations\n",
    "\n",
    "Probably the most basic use of Python is as a calculator. Simply inputting arithmetic expressions will cause it to return the answers to those expressions:"
   ]
  },
  {
   "cell_type": "code",
   "execution_count": null,
   "id": "74dd9d8a",
   "metadata": {},
   "outputs": [],
   "source": [
    "2 + 2"
   ]
  },
  {
   "cell_type": "markdown",
   "id": "88a609f7",
   "metadata": {},
   "source": [
    "As well as the standard operators (+, -, /, *), python also provides a couple of more specialised operators: exponentiation (e.g. $2^4$) is written with a double asterisk:"
   ]
  },
  {
   "cell_type": "code",
   "execution_count": null,
   "id": "6b535a03",
   "metadata": {},
   "outputs": [],
   "source": [
    "2**4"
   ]
  },
  {
   "cell_type": "markdown",
   "id": "4549d468",
   "metadata": {},
   "source": [
    "The remainder of a division operation is written with the % sign:"
   ]
  },
  {
   "cell_type": "code",
   "execution_count": null,
   "id": "804137aa",
   "metadata": {},
   "outputs": [],
   "source": [
    "33 % 9"
   ]
  },
  {
   "cell_type": "markdown",
   "id": "44d2dcda",
   "metadata": {},
   "source": [
    "And the floor of a division (the result of the division ignoring the remainder) is given via a double backslash, //:"
   ]
  },
  {
   "cell_type": "code",
   "execution_count": null,
   "id": "03102c7f",
   "metadata": {},
   "outputs": [],
   "source": [
    "33 // 9"
   ]
  },
  {
   "cell_type": "markdown",
   "id": "1532dc53",
   "metadata": {},
   "source": [
    "## Variables and types\n",
    "\n",
    "Rather than writing the numbers out directly in these calculations, we can instead define variables and use these instead:"
   ]
  },
  {
   "cell_type": "code",
   "execution_count": null,
   "id": "05a4d8c7",
   "metadata": {},
   "outputs": [],
   "source": [
    "a = 3\n",
    "b = 4\n",
    "\n",
    "a*b"
   ]
  },
  {
   "cell_type": "markdown",
   "id": "4f5614b6",
   "metadata": {},
   "source": [
    "You can view a variable as a human-readable tag that points to something in the computer's memory. In this case, this 'something' was two integers, but in general variables can represent anything from text to a whole simulation.\n",
    "\n",
    "The different kinds of data that a variable can represent are denoted by their type. Some important types include:\n",
    "- Integers (int): Whole numbers\n",
    "- Floating point numbers (float): Real numbers, in decimal representation (e.g. 1.3)\n",
    "- Boolean truth values (bool): True or False, typically the result of comparison operations (e.g. 1 < 3 results in True)\n",
    "- Strings (str): Text\n",
    "\n",
    "You can check the type of a variable by using the type() command. For example,"
   ]
  },
  {
   "cell_type": "code",
   "execution_count": null,
   "id": "2793388d",
   "metadata": {},
   "outputs": [],
   "source": [
    "a = 1.5\n",
    "b = '1.5 ' #Quote marks indicate that the contents will be interpreted as a string\n",
    "\n",
    "print(type(a))\n",
    "print(type(b))"
   ]
  },
  {
   "cell_type": "markdown",
   "id": "c51335df",
   "metadata": {},
   "source": [
    "In general, the result of operations on variables depends on their type, and in many cases an operation will result in an error if an input variable is of the wrong type:"
   ]
  },
  {
   "cell_type": "code",
   "execution_count": null,
   "id": "a2e5c25c",
   "metadata": {},
   "outputs": [],
   "source": [
    "print(a * 3)\n",
    "print(a / 3)\n",
    "print(b * 3) #When applied to strings, the * operator concatenates multiple copies of that string together\n",
    "print(b / 3) #Results in an error, as the / operator is not defined for strings"
   ]
  },
  {
   "cell_type": "markdown",
   "id": "889318a0",
   "metadata": {},
   "source": [
    "You can also change data from one type to another by **casting** it:"
   ]
  },
  {
   "cell_type": "code",
   "execution_count": null,
   "id": "181b198f",
   "metadata": {},
   "outputs": [],
   "source": [
    "b = '1.5 '\n",
    "\n",
    "print(b * 3)\n",
    "print(float(b) * 3) #Casting b to float means the multiplication operation treats it as a floating point number"
   ]
  },
  {
   "cell_type": "markdown",
   "id": "39f57b07",
   "metadata": {},
   "source": [
    "Not every type of cast is well defined. For example, if we try to convert the string '1.5' to an integer, we get an error:"
   ]
  },
  {
   "cell_type": "code",
   "execution_count": null,
   "id": "9c749706",
   "metadata": {},
   "outputs": [],
   "source": [
    "print(int(b) * 3)"
   ]
  },
  {
   "cell_type": "markdown",
   "id": "72422bb3",
   "metadata": {},
   "source": [
    "However, the float to int cast is well defined (floating point numbers are rounded to the nearest integer), so we could chain together casts to get a valid output:"
   ]
  },
  {
   "cell_type": "code",
   "execution_count": null,
   "id": "609764b9",
   "metadata": {},
   "outputs": [],
   "source": [
    "print(int(float(b)) * 3)"
   ]
  },
  {
   "cell_type": "markdown",
   "id": "bd99a411",
   "metadata": {},
   "source": [
    "## Loops and functions\n",
    "\n",
    "In many cases, we wish to apply a particular sequence of operations multiple times. Explicitly writing out each of these repetitions would be cumbersome, and in many cases we don't know how many times to repeat the operations until we run the code. To get around these issues, we use loops.\n",
    "\n",
    "### For loops\n",
    "\n",
    "For loops are used when we know how many times we wish to repeat an block of code before we execute that section of the program. As an example, one (inefficient) way to multiply 2 by 4 is to add 2 to itself 4 times:"
   ]
  },
  {
   "cell_type": "code",
   "execution_count": null,
   "id": "307d8e17",
   "metadata": {},
   "outputs": [],
   "source": [
    "a = 2\n",
    "b = 4\n",
    "\n",
    "total = 0\n",
    "\n",
    "for i in range(b): #i is incremented during each cycle of the loop, going through the sequence i = 0, i = 1, i = 2, ... i = (b-1)\n",
    "    total += a #The notation x += y is equivalent to x = x + y.\n",
    "\n",
    "print(total)"
   ]
  },
  {
   "cell_type": "markdown",
   "id": "5a1a1e0b",
   "metadata": {},
   "source": [
    "### While loops\n",
    "\n",
    "While loops are used when we *do not* know how many times we wich to repeat a code block before we come to execute that section of the code. For example, one way of performing division is to count how many times you must subtract one number from another before it equals 0:"
   ]
  },
  {
   "cell_type": "code",
   "execution_count": null,
   "id": "2c8f09a9",
   "metadata": {},
   "outputs": [],
   "source": [
    "a = 3\n",
    "b = 18\n",
    "\n",
    "count = 0\n",
    "\n",
    "while b > 0: #The operation b > 0 returns a Boolean which is True as long as b is greater than 0. As soon as it switches to False, the loop terminates.\n",
    "    b -= a\n",
    "    count += 1\n",
    "\n",
    "print(count)"
   ]
  },
  {
   "cell_type": "markdown",
   "id": "dd908633",
   "metadata": {},
   "source": [
    "While loops can be dangerous, as they can result in the system getting stuck if the condition they are checking can never be false. The most basic example of this would be to simply write 'while True:'.\n",
    "\n",
    "### Function definitions\n",
    "\n",
    "If we want to use a particular piece of code in multiple places, it is often convenient to package that piece of code up as a function. Functions take in a given number of 'arguments' and manipulate them internally, resulting in one or many outputs. We can very easily turn our multiplication example into a function:"
   ]
  },
  {
   "cell_type": "code",
   "execution_count": null,
   "id": "a4294aa7",
   "metadata": {},
   "outputs": [],
   "source": [
    "def multiply(int1,int2): #int1 and int2 are inputs\n",
    "    total = 0\n",
    "    \n",
    "    for i in range(int2):\n",
    "        total += int1\n",
    "    \n",
    "    return total #return operation defines the output of the function"
   ]
  },
  {
   "cell_type": "code",
   "execution_count": null,
   "id": "2c28489a",
   "metadata": {},
   "outputs": [],
   "source": [
    "print(multiply(3,4))\n",
    "print(multiply(9,2))\n",
    "\n",
    "#Functions can also take in variables\n",
    "a = 5\n",
    "b = 20\n",
    "print(multiply(a,b))"
   ]
  },
  {
   "cell_type": "markdown",
   "id": "15a1bd4c",
   "metadata": {},
   "source": [
    "An important idea to note here is the notion of **scope**. The scope of a particular name binding (i.e. what the variable is called) represents the part of the program in which that binding is valid.\n",
    "\n",
    "In this case, we can see that the scope of the variables int1 and int2 is restricted to the multiply function definition - if for example we were to call other variables int1 and int2 in a different part of the code, this would have no effect on the output of this function:"
   ]
  },
  {
   "cell_type": "code",
   "execution_count": null,
   "id": "07fb545a",
   "metadata": {},
   "outputs": [],
   "source": [
    "print(multiply(3,5)) #Outputs 15\n",
    "\n",
    "int1 = 24\n",
    "int2 = 15\n",
    "\n",
    "print(multiply(3,5)) #Still outputs 15"
   ]
  },
  {
   "cell_type": "markdown",
   "id": "6a3f0008",
   "metadata": {},
   "source": [
    "## Introduction to Numpy\n",
    "\n",
    "So far, we have looked at Python's core functionality, the tools available within every copy of python. However, Python's functionality can be greatly extended by importing new tools written by other developers. In the main exercise, we will be making extensive use of NumPy, a library of classes and functions designed to facilitate large-scale numerical data manipulation.\n",
    "\n",
    "Importing new tools is quite easy. Running the below cell will import numpy into your current workspace:"
   ]
  },
  {
   "cell_type": "code",
   "execution_count": null,
   "id": "efad42c2",
   "metadata": {},
   "outputs": [],
   "source": [
    "import numpy as np #The 'as np' command defines how the library will be called in downstream code"
   ]
  },
  {
   "cell_type": "markdown",
   "id": "213edb8c",
   "metadata": {},
   "source": [
    "### The ndarray object\n",
    "\n",
    "The core element of NumPy is the ndarray, which stands for n-dimensional array. Arrays are storage for numerical data, and include vectors (1-dimensonal arrays) and matrices (2-dimensional arrays).\n",
    "\n",
    "Data is assigned to and read out from arrays by specifying the coordinates of the locations you want to access:"
   ]
  },
  {
   "cell_type": "code",
   "execution_count": null,
   "id": "90bf84e9",
   "metadata": {},
   "outputs": [],
   "source": [
    "testData = np.zeros((4,4)) #Initialise a 4x4 ndarray filled with zeros\n",
    "\n",
    "testData[1,2] = 3 #Assign the value 3 to row 2, column 3\n",
    "\n",
    "print(testData) #Print the whole array\n",
    "print(testData[1,2]) #Print just the modified element"
   ]
  },
  {
   "cell_type": "markdown",
   "id": "4144af11",
   "metadata": {},
   "source": [
    "You can also access multiple elements at once by specifying a range of elements in each dimension:"
   ]
  },
  {
   "cell_type": "code",
   "execution_count": null,
   "id": "8e38ceaa",
   "metadata": {},
   "outputs": [],
   "source": [
    "testData2 = np.zeros((4,4))\n",
    "\n",
    "testData2[:,1] = 1 #The : indicates that all rows should be accessed\n",
    "\n",
    "print(testData2)\n",
    "print(' ')\n",
    "\n",
    "testData2[2,:2] = 2 #Specify that the first two columns of row 2 should be accessed\n",
    "\n",
    "print(testData2)\n",
    "print(' ')\n",
    "\n",
    "testData2[0,-1] = 3 #Can use negative indicies to count from the end of the array\n",
    "\n",
    "print(testData2)"
   ]
  },
  {
   "cell_type": "markdown",
   "id": "36859bba",
   "metadata": {},
   "source": [
    "### Manipulating arrays\n",
    "\n",
    "NumPy provides a great many tools for manipulating this basic ndarray object. The following code illustrates some common examples - for more, see the [numpy documentation](https://numpy.org/doc/stable/reference/index.html#reference). In general, if you can think of some way of reshaping or otherwise manipulating an array, there will be some function within numPy that can do it already."
   ]
  },
  {
   "cell_type": "code",
   "execution_count": null,
   "id": "515dd645",
   "metadata": {},
   "outputs": [],
   "source": [
    "seqLst = np.arange(5) #Create a 1D ndarray containing a sequence of numbers\n",
    "\n",
    "print(seqLst)\n",
    "print(' ')\n",
    "\n",
    "seqArray1 = np.tile(seqLst, (5,1)) #Repeat the sequence array 5x as a row\n",
    "\n",
    "print(seqArray1)\n",
    "print(' ')\n",
    "\n",
    "seqArray2 = np.tile(seqLst, (1,5)) #Repeat the sequence array 5x as a column\n",
    "\n",
    "print(seqArray2)\n",
    "print(' ')\n",
    "\n",
    "transArray = seqArray1.T #The transpose of the matrix represented by seqArray1\n",
    "\n",
    "print(transArray)\n",
    "print(' ')\n",
    "\n",
    "multArray = np.multiply(seqArray1,transArray) #The elementwise product of seqArray1 and its transpose\n",
    "\n",
    "print(multArray)"
   ]
  }
 ],
 "metadata": {
  "kernelspec": {
   "display_name": "Python 3",
   "language": "python",
   "name": "python3"
  },
  "language_info": {
   "codemirror_mode": {
    "name": "ipython",
    "version": 3
   },
   "file_extension": ".py",
   "mimetype": "text/x-python",
   "name": "python",
   "nbconvert_exporter": "python",
   "pygments_lexer": "ipython3",
   "version": "3.8.8"
  }
 },
 "nbformat": 4,
 "nbformat_minor": 5
}
