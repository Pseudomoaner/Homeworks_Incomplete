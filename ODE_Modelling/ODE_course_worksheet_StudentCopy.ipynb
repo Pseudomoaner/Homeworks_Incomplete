{
 "cells": [
  {
   "cell_type": "markdown",
   "id": "783fae1d",
   "metadata": {},
   "source": [
    "## Introduction to Jupyter\n",
    "\n",
    "Welcome to Jupyter! In case you haven't seen a notebook interface like this before, we will quickly explain how they work here. If you're already experienced with this type of interface, feel free to skip ahead (to the section called **Introduction to ODE modelling**).\n",
    "\n",
    "If you have written code in the past, you have probably used an Integrated Development Environment (IDE) such as Idle or Visual Studio. These are great for building programs when we know from the outset exactly what we want to do. However, in scientific computing, we often want to experiment with many different approaches to the same challenge. It then becomes critically important a) that we can easily compare the outcome of these different approaches, and b) that we can accurately record the thought processes that led to each approach.\n",
    "\n",
    "Notebook interfaces help with this problem by combining word processing and programming into a single package. The word processing capabilities allow you to store complex documentation with your code, including $\\LaTeX$-quality equation typesetting:\n",
    "\n",
    "$$F = m\\frac{d^{2}x}{dt^{2}}$$\n",
    "\n",
    "and the ability to embed images:\n",
    "\n",
    "![Jupyter](Figs/jupyter.png)\n",
    "\n",
    "Later, we will also see how we can generate plots with our code as part of the document.\n",
    "\n",
    "In Jupyter, everything is written within *cells*. Cells come in two main flavours: **markdown** (which is what this section is written in) and **code** (where you will be editing your python scripts). You can insert new cells where they are needed and easily move cells around, allowing you to easily restructure document as needed. Clicking the **run** button at the top of the screen has a different effect depending on the type of cell currently selected:\n",
    "\n",
    "  * If a **markdown** cell, the markdown within will be converted into nicely formatted text.\n",
    "  * If a **code** cell, the code in it will be executed.\n",
    " \n",
    "The cell below is a code cell. Try clicking on it to select it and then press 'Run' to execute its contents."
   ]
  },
  {
   "cell_type": "code",
   "execution_count": null,
   "id": "f3828caa",
   "metadata": {},
   "outputs": [],
   "source": [
    "print(\"Hello world\")"
   ]
  },
  {
   "cell_type": "markdown",
   "id": "b0c4ce1a",
   "metadata": {},
   "source": [
    "Note that variables, class/function definitions etc. are persistent between code blocks. This allows you split complex scripts into as many parts as you need. For example, we can define the variable 'MOE' in one code cell:"
   ]
  },
  {
   "cell_type": "code",
   "execution_count": null,
   "id": "6ae08e18",
   "metadata": {},
   "outputs": [],
   "source": [
    "MOE = 42"
   ]
  },
  {
   "cell_type": "markdown",
   "id": "e858db93",
   "metadata": {},
   "source": [
    "And then print it in a separate cell:"
   ]
  },
  {
   "cell_type": "code",
   "execution_count": null,
   "id": "1e599519",
   "metadata": {},
   "outputs": [],
   "source": [
    "print(MOE)"
   ]
  },
  {
   "cell_type": "markdown",
   "id": "1f12bfe1",
   "metadata": {},
   "source": [
    "We do have to be careful to define things in the correct order, though. For example, running the two cells below in order will result in an error, as the variable 'unliked' is used before it is defined. There is nothing however to stop you sucessfully running them from bottom to top!"
   ]
  },
  {
   "cell_type": "code",
   "execution_count": null,
   "id": "d16017f1",
   "metadata": {},
   "outputs": [],
   "source": [
    "print(unliked)"
   ]
  },
  {
   "cell_type": "code",
   "execution_count": null,
   "id": "dac2dfb7",
   "metadata": {},
   "outputs": [],
   "source": [
    "unliked = \"Green eggs and ham\""
   ]
  },
  {
   "cell_type": "markdown",
   "id": "102f63f9",
   "metadata": {},
   "source": [
    "## Introduction to ODE modelling - the Lotka-Volterra equations\n",
    "\n",
    "Ordinary Differential Equations (ODEs) are widely used in theoretical biology to model systems with dynamic populations. One of the most well-known systems is the __[Lotka-Volterra (LV) equations](https://en.wikipedia.org/wiki/Lotka%E2%80%93Volterra_equations)__, which model the population dynamics of a collection of prey (represented by the variable $x$) and predator (represented by $y$) animals:\n",
    "\n",
    "$$\\frac{dx}{dt} = \\alpha x - \\beta xy,$$\n",
    "\n",
    "$$\\frac{dy}{dt} = \\delta xy - \\gamma y.$$\n",
    "\n",
    "Although these may look somewhat daunting to the uninitiated, they actually have quite a simple interpretation:\n",
    " -  The differentials on the left-hand-side ($\\frac{dx}{dt}$ and $\\frac{dy}{dt}$) indicate the instantaneous rate of change of the two populations. Positive values indicate that the population is growing, while negative values indicate that it is shrinking.\n",
    " -  The term $\\alpha x$ represents the ability of the prey population to reproduce. The parameter $\\alpha$ sets the rate of self-replication.\n",
    " -  The terms $-\\beta xy$ and $\\delta xy$ represent the predation process. For a predation event to occur, a preditor must encounter a prey animal - this encounter rate is dependant on both the size of the predator population and the prey population, resulting in the product $xy$ in these terms. The parameter $\\beta$ sets the overall scale of the predation rate, while $\\delta$ also encodes the efficiency with which the preditor population is able to convert prey biomass into new predator individuals.\n",
    " -  The term $-\\gamma y$ represents the death of predators. The parameter $\\gamma$ sets this death rate.\n",
    " \n",
    "Another way of looking at this is to say that *the rate of change in a population is equal to the rate of inflows minus the rate of outflows*. So-called 'stock and flow' diagrams can be used to help us conceptualise the key processes to include when assembling such a model:\n",
    "\n",
    "<img src=\"Figs/LV_StockFlow.png\" alt=\"LV_StockFlow\" style=\"width: 500px;\"/>\n",
    "\n",
    "### Simulating Lotka-Volterra dynamics\n",
    "\n",
    "Although considerable insight can be gained from an analytical approach to the LV equations, many systems of ODEs are too complex to be explicitly solved. Instead, we typically take a computational approach to these problems, numerically integrating the dynamics and observing how the behaviour of the system changes for different parameter sets.\n",
    "\n",
    "Here, we will use the solve_ivp ('solve initial value problem') function from scipy to perform this numerical integration (for the technically curious, we will be using the __[explicit Runge-Kutta method of order 5(4)](https://en.wikipedia.org/wiki/Runge%E2%80%93Kutta_methods)__). We will initially be using the following parameter values, but feel free to play around to get a feel for the different types of behaviour the system can produce:\n",
    "\n",
    "| $\\alpha$ | $\\beta$ | $\\gamma$ | $\\delta$ | $x_0$ (initial prey) | $y_0$ (initial predator) |\n",
    "| --- | --- | --- | --- | --- | --- |\n",
    "| $\\frac{2}{3}$ | $\\frac{4}{3}$ | $1$ | $1$ | $1$ | $2$ |\n",
    "\n",
    "**Exercise 1:** Run the code in the following cells in turn. Annotate the code with any additional comments necessary to explain what each part of the code is doing."
   ]
  },
  {
   "cell_type": "code",
   "execution_count": null,
   "id": "0bf86f5c",
   "metadata": {},
   "outputs": [],
   "source": [
    "#Import packages used\n",
    "import matplotlib\n",
    "import matplotlib.pyplot as plt\n",
    "import numpy as np\n",
    "from scipy.integrate import solve_ivp\n",
    "import math"
   ]
  },
  {
   "cell_type": "code",
   "execution_count": null,
   "id": "d0abef97",
   "metadata": {},
   "outputs": [],
   "source": [
    "#Define the ODEs\n",
    "def LV_eqns(t,y,alpha,beta,gamma,delta):    \n",
    "    dx = alpha*y[0] - beta*y[0]*y[1]\n",
    "    dy = gamma*y[0]*y[1] - delta*y[1]\n",
    "    \n",
    "    return [dx,dy]"
   ]
  },
  {
   "cell_type": "code",
   "execution_count": null,
   "id": "04d3381b",
   "metadata": {},
   "outputs": [],
   "source": [
    "#Parameter settings\n",
    "alpha = 2/3\n",
    "beta = 4/3\n",
    "gamma = 1\n",
    "delta = 1\n",
    "\n",
    "inArgs = (alpha,beta,gamma,delta)\n",
    "\n",
    "#Initial conditions (initial sizes of the two populations)\n",
    "initConds = [1,2]\n",
    "\n",
    "#Time settings for the solver\n",
    "tSpan = [0,50]\n",
    "dt = 0.2\n",
    "tSteps = np.arange(tSpan[0],tSpan[1],dt)\n",
    "\n",
    "#Run numerical integration\n",
    "solLV = solve_ivp(fun=LV_eqns, t_span=tSpan, t_eval=tSteps, y0=initConds, args=inArgs)"
   ]
  },
  {
   "cell_type": "code",
   "execution_count": null,
   "id": "1259c772",
   "metadata": {},
   "outputs": [],
   "source": [
    "#Set size of plot\n",
    "plt.rcParams[\"figure.figsize\"] = (8,3)\n",
    "\n",
    "#Get handles to the figure and the current set of axes\n",
    "figLV1, ax = plt.subplots()\n",
    "\n",
    "#Set x and y limits of plot\n",
    "ax.set_xlim(tSpan[0],tSpan[-1])\n",
    "ax.set_ylim(0,4)\n",
    "\n",
    "#Plot population dynamics\n",
    "ax.plot(tSteps,solLV.y[0,:], color=(0,0.8,0), label='Prey') #First row of solLV.y contains prey timecourse\n",
    "ax.plot(tSteps,solLV.y[1,:], color=(0.8,0,0), label='Predator') #Second row of solLV.y contains predator timecourse\n",
    "\n",
    "#Create legend and label axes\n",
    "plt.legend(loc='upper right')\n",
    "plt.xlabel(\"Time\")\n",
    "plt.ylabel(\"Population size\")"
   ]
  },
  {
   "cell_type": "markdown",
   "id": "7c66e723",
   "metadata": {},
   "source": [
    "## ODEs in microbiome research\n",
    "\n",
    "Given their ease of use and intuitive structure, ODEs are also widely used in microbiome research. As well as abstract ecological models such as the Lotka-Volterra model, systems known as **consumer-resource models** (aka resource-explicit models) are also widely used. These explicitly simulate both the size of the microbial populations and the chemicals with which they interact, allowing such processes as nutrient consumption and waste production to be directly investigated. This contrasts with the Lotka-Volterra system, where the resources (e.g. the amount of vegetation available to the prey population) are abstracted out of the model. The dynamics of the two types of system can be quite different.\n",
    "\n",
    "In this worksheet, we will aim to replicate the model of __[Piccardi et al. (2019)](https://www.pnas.org/content/pnas/116/32/15979.full.pdf)__, which simulates the population dynamics of a toxin-degrading community. To help us, it will be useful to look at couple of additional mathematical tricks commonly used in this field.\n",
    "\n",
    "### Typical terms in microbiome ODEs\n",
    "\n",
    "#### Summation terms\n",
    "\n",
    "In microbiomes containing many different species, explicitly writing out all the interactions between them can become cumbersome. Instead, we usually assume that all the interactions in the system can be characterised by a single functional form, with interactions between different pairs of species being represented by different parameters in this function. The impact of all interactions on a single species can then be calculated by simply summing together all of the interactions acting on it.\n",
    "\n",
    "For example, the *generalised Lotka-Volterra equation* can be written as \n",
    "\n",
    "$$\\frac{dx_i}{dt} = r_i + \\sum^N_{j=1} A_{i,j} x_{j},$$\n",
    "\n",
    "where $x_i$ is the population size of species $i$, $r_i$ is the intrinsic growth rate of $i$, and $A_{i,j}$ denotes the strength and sign of the interaction between species $i$ and $j$ (positive implying enhancement of growth of $i$, negative implying reduction of growth). The summation term $\\sum^N_{j=1}$ is shorthand for $A_{i,1} x_1 + A_{i,2} x_2 + ... + A_{i,N} x_N$, representing the combined influence of the other species in the system on the growth of $i$.\n",
    "\n",
    "#### The Monod equation\n",
    "\n",
    "The *Monod equation* is a classical representation of the ability of cells to utilize nutrients. It is generally used to allow us to take into account the empirical observation that cell growth rate is a saturating function of nutrient availability. We define it as:\n",
    "\n",
    "$$\\nu = \\nu_{max} \\frac{[N]}{[N] + K_N},$$\n",
    "\n",
    "where $\\nu$ is the growth rate, $\\nu_{max}$ is the maximal possible growth rate, $[N]$ is the nutrient concentration and $K_N$ is the so-called 'half-velocity constant', the concentration $[N]$ at which $\\nu = \\frac{1}{2}\\nu_{max}$. This may be familiar as being identical in form to the Michaelis-Menton equation, which provides similar saturating kinetics for enzymatic reactions. A plot of this function for $\\nu_{max} = 5$, $K_N = 2$ will be shown below upon running the code in the next cell:"
   ]
  },
  {
   "cell_type": "code",
   "execution_count": null,
   "id": "f6241f44",
   "metadata": {},
   "outputs": [],
   "source": [
    "muMax = 5\n",
    "KN = 2\n",
    "\n",
    "concMax = 20\n",
    "concList = np.arange(0,concMax,0.1)\n",
    "muList = muMax*(np.divide(concList,concList + KN))\n",
    "\n",
    "#Set size of plot\n",
    "plt.rcParams[\"figure.figsize\"] = (6,3)\n",
    "\n",
    "#Get handles to the figure and the current set of axes\n",
    "figMonod, ax = plt.subplots()\n",
    "\n",
    "#Set x and y limits of plot\n",
    "ax.set_xlim(0,concMax)\n",
    "ax.set_ylim(0,6)\n",
    "\n",
    "plt.plot(concList,muList,label = 'Monod')\n",
    "plt.plot([0,concMax],[muMax,muMax],'k:',label = 'Maximum rate')\n",
    "plt.plot([KN,KN],[0,6],'k--',label = 'Half-velocity constant')\n",
    "\n",
    "plt.legend(loc='lower right')\n",
    "plt.xlabel('[N]')\n",
    "plt.ylabel('v')"
   ]
  },
  {
   "cell_type": "markdown",
   "id": "4b3a9baa",
   "metadata": {},
   "source": [
    "### The Piccardi et al. (2019) model\n",
    "\n",
    "We can now put these ingredients together to understand the model of Piccardi et al., an example of a consumer-resource system.\n",
    "\n",
    "In this model, an arbitrary number of species interact with a nutrient and a toxin in their environment. Toxins can be degraded by cells but inhibit their growth, while nutrient consumption enables population growth:\n",
    "\n",
    "$$\\frac{d[S_i]}{dt} = [S_i]((1-f_i) \\rho_i - \\mu_i),$$\n",
    "\n",
    "$$\\frac{d[N]}{dt} = -\\sum^n_{i=1} \\frac{\\rho_i [S_i]}{Y_i},$$\n",
    "\n",
    "$$\\frac{d[T]}{dt} = -[T]\\sum^n_{i=1} [S_i] (f_i \\delta_i \\rho_i + \\kappa_i),$$\n",
    "\n",
    "where we assume that the effects of nutrients and toxins saturate as a function of concentration, making use of the Monod equation: \n",
    "\n",
    "$$\\rho_i = R_i \\frac{[N]}{[N] + K_N},$$\n",
    "\n",
    "$$\\mu_i = M_i \\frac{[T]}{[T] + K_T}.$$\n",
    "\n",
    "Here, $[S_i]$ denotes the size of bacterial species $i$, $[N]$ and $[T]$ are the concentations of the nutrient and the toxin respectively, $f_i$ denotes the fraction of nutrients devoted to active toxin degradation, $Y_i$ is the biomass yield per unit nutrient, $\\delta_i$ is the efficiency of the degratative enzymes and $\\kappa_i$ is the passive uptake of toxins by a given species. For the two Monod equations, $K_N$ and $K_T$ are the half-maximal velocity concentrations, and $R_i$ and $M_i$ are the maximal nutrient usage and toxicity rates.\n",
    "\n",
    "**Exercise 2:** Draw a stock and flow diagram of the system described by these equations, making sure annotate each process at work.\n",
    "\n",
    "To begin with, we will simulate the dynamics of the system with a single species. This will provide a baseline measure of the productivity of the community against which more complex situations can be compared.\n",
    "\n",
    "**Exercise 3:** Using the Lotka-Volterra example above as a template, numerically integrate the ODE system of Piccardi et al. for a single species and plot the dynamics of this system. You may use the following parameter values: \n",
    "\n",
    "| $f_1$ | $Y_1$ | $\\delta_1$ | $\\kappa_1$ | $K_N$ | $K_T$ | $R_1$ | $M_1$ | $[S_1]_0$ | $[N]_0$ | $[T]_0$ | $t_{max}$ (maximum timepoint) |\n",
    "| --- | --- | --- | --- | --- | --- | --- | --- | --- | --- | --- | --- |\n",
    "| $0.1$ | $5$ | $15$ | $0.001$ | $1.5$ | $1$ | $0.1$ | $0.2$ | $1$ | $1$ | $1$ | $100$ |"
   ]
  },
  {
   "cell_type": "code",
   "execution_count": null,
   "id": "989c8f3f",
   "metadata": {},
   "outputs": [],
   "source": []
  },
  {
   "cell_type": "markdown",
   "id": "ee959ed6",
   "metadata": {},
   "source": [
    "Next, we will ask how introducing a second species with identical properties to the first affects the system's dynamics. Does it enhance the growth of the first species, or hinder it?\n",
    "\n",
    "**Exercise 4:** Modify your ODE implementation to allow simulation of the dynamics of two separate species in same culture tube. Next, using the same parameters as above for the new species, repeat the numerical integration and plot the dynamics. Finally, find the ratio of the endpoint sizes of the first population when in monoculture (previous exercise) and when in co-culture."
   ]
  },
  {
   "cell_type": "code",
   "execution_count": null,
   "id": "10fe6911",
   "metadata": {},
   "outputs": [],
   "source": []
  },
  {
   "cell_type": "markdown",
   "id": "d2bfaae5",
   "metadata": {},
   "source": [
    "Hopefully you have found that the presence of a second species has enhanced the growth of the first, as the task of toxin degradation is now shared between the two populations. But is this a general phenomenon, or something specific to this particular set of environmental conditions?\n",
    "\n",
    "To address this question, we can perform a **parameter sweep**. This is where we perform multiple simulations with different parameter settings and investigate how the behaviour of the system changes as a function of these settings. The exact parameters to focus on depend on the question being asked; in this case, as we are interested in the role of the environment in controlling the outcome of the system, we will focus on the two environmental parameters $N_0$ and $T_0$ (the initial nutrient and toxin concentrations).\n",
    "\n",
    "**Exercise 5:** Perform a parameter sweep over $N_0$ and $T_0$ and plot the final size of population 1 in monoculture relative to its final size in co-culture. For these simulations, modify your system parameters to the following (the notation $[0.02,0.04,...1]$ indicates the range of values that should be used for $N_0$ and $T_0$).\n",
    "\n",
    "| $f_1, f_2$ | $Y_1, Y_2$ | $\\delta_1, \\delta_2$ | $\\kappa_1, \\kappa_2$ | $K_N$ | $K_T$ | $R_1, R_2$ | $M_1, M_2$ | $[S_1]_0, [S_2]_0$ | $[N]_0$ | $[T]_0$ | $t_{max}$ |\n",
    "| --- | --- | --- | --- | --- | --- | --- | --- | --- | --- | --- | --- |\n",
    "| $0.6$ | $5$ | $10$ | $0.01$ | $1$ | $1$ | $0.1$ | $0.15$ | $1$ | $[0.01,0.02,...0.5]$ | $[0.02,0.04,...1]$ | $100$ |"
   ]
  },
  {
   "cell_type": "code",
   "execution_count": null,
   "id": "2a52b012",
   "metadata": {},
   "outputs": [],
   "source": [
    "# Uncomment the below line and run this cell to show hints for exercise 4\n",
    "# %load Txts/Ex4Hints.txt"
   ]
  },
  {
   "cell_type": "code",
   "execution_count": null,
   "id": "e68af4a4",
   "metadata": {},
   "outputs": [],
   "source": [
    "# Uncomment the below line and run this cell if you're really stuck - will reveal skeleton code for completing exercise 4\n",
    "# %load Txts/Ex4SkelCode.txt"
   ]
  },
  {
   "cell_type": "code",
   "execution_count": null,
   "id": "cc9a8597",
   "metadata": {},
   "outputs": [],
   "source": []
  },
  {
   "cell_type": "markdown",
   "id": "a8e51d0b",
   "metadata": {},
   "source": [
    "### Extending the model\n",
    "\n",
    "If you have made it this far, congratulations! You have just recreated the models that were used to create figure 2 of Piccardi et al. So as long as you can find the right question (always the hard part), you now have the tools to be published in PNAS!\n",
    "\n",
    "Assuming you have time, you should try using the techniques that you have just learnt to extend the model to investigate new questions. Here are some suggestions, though we would not wish them to be a straightjacket on your imaginations.\n",
    "\n",
    "#### Chemostat model\n",
    "\n",
    "You have just simulated batch reaction experiments, where the ingredients (media and starting inocula) are placeded in a single vessel and then continuously mixed as the system evolves. As you should have seen in exercices 2 and 3, nutrients and toxins are generally rapidly depleated, meaning the system equilibrates quite rapidly.\n",
    "\n",
    "An alternative setup is the __[chemotstat](https://en.wikipedia.org/wiki/Chemostat)__, where fresh media is continuously added to the system and waste continuously removed. It is relatively simple to incorporate this into the equations for this sytem, merely requiring that fresh nutrients and toxins at $N_0$ and $T_0$ are added at a rate $D$ and that cells are removed at the same rate.\n",
    "\n",
    "Explore how making this modification changes the dynamics of the system. Do you observe any surprising behaviours?\n",
    "\n",
    "#### Cross-detoxification model\n",
    "\n",
    "The facilitation of species 1 by species 2 observed so far occurs in spite of the fact that both are identical. As we saw in exercise 4, under low toxin regimes, this facilitation turns to competition due to the perfect niche overlap of the two populations.\n",
    "\n",
    "More stable mutualisms between species can occur if both species target different components of a toxic mixture; in such cases, the growth of the first species depends on the continued presence of the second species, and *vice versa*. Supplementary Note 3 and Figure S18 of Piccardi et al. describe such a cross-detoxification model. Implement this model, and investigate how the facilitation effect varies as a function of the concentration of the two toxins.\n",
    "\n",
    "#### Distinct species model\n",
    "\n",
    "A related question is whether the dynamics of the community in the original single-toxin model can be substantially altered by mixing species with different properties. For example, does mixing one species with a high fractional investment in toxin detoxification $f_i$ with one with a low fractional investment result in a different outcome to mixing two species with identical middling investments?\n",
    "\n",
    "Use parameter sweeps to investigate questions of this type. Can you find general rules that improve the detoxification capabilities of the community?\n",
    "\n",
    "#### Analytical investigation of community properties\n",
    "\n",
    "If you have a more mathematical background, you may be interested in taking a more analytical approach to understanding these ODEs. While simulations can give us a general overview of the possible outcomes of models, analysis can give us a deeper understanding of how and why these outcomes occur. For example, you might ask:\n",
    "\n",
    "- Considering initial nutrient and toxin concentrations as a parameter space, which regions lead to initial increases in the population of the bacteria, and which to declines? (Hint: Setting $\\frac{d[S_i]}{dt} = 0$ and solving the resulting equation will provide you with an isocline in nutrient/toxin space)\n",
    "- Are there stationary points in the nutrient/toxin space? Does the system tend to evolve towards these points, or away from them? Are they stable or unstable?\n",
    "\n",
    "You may also wish to try testing these analytic predictions with explicit simulations.\n"
   ]
  },
  {
   "cell_type": "code",
   "execution_count": null,
   "id": "4a4b486d",
   "metadata": {},
   "outputs": [],
   "source": []
  }
 ],
 "metadata": {
  "kernelspec": {
   "display_name": "Python 3",
   "language": "python",
   "name": "python3"
  },
  "language_info": {
   "codemirror_mode": {
    "name": "ipython",
    "version": 3
   },
   "file_extension": ".py",
   "mimetype": "text/x-python",
   "name": "python",
   "nbconvert_exporter": "python",
   "pygments_lexer": "ipython3",
   "version": "3.8.8"
  }
 },
 "nbformat": 4,
 "nbformat_minor": 5
}
